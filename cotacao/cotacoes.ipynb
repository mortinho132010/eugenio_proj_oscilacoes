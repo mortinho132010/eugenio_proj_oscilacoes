{
 "cells": [
  {
   "cell_type": "code",
   "execution_count": null,
   "metadata": {},
   "outputs": [],
   "source": [
    "#Oscilação da cotação das moedas Dólar Americano, Libra Esterlina e Euro em relação ao Real no período de 23/03/2020 a 23/06/2020.\n",
    "\n",
    "#Fontes dos dados: \n",
    "#   https://br.investing.com/currencies/usd-brl-historical-data \n",
    "#   https://br.investing.com/currencies/gbp-brl-historical-data\n",
    "#   https://br.investing.com/currencies/eur-brl-historical-data\n",
    "\n",
    "#Informações contidas no arquivo Excel:  \n",
    "#   Data (data ao qual os valores fazem referência)\n",
    "#   Fechamento (valor que a moeda fechou no dia)\n",
    "#   Abertura (valor que a moeda iniciou no dia)\n",
    "#   Máxima (valor máximo que a moeda atingiu no dia)\n",
    "#   Mínima (valor mínimo que a moeda atingiu no dia)\n",
    "#   Variação (variação em porcentagem da variação do valor da moeda no dia)\n",
    "#   Moeda (qual o nome da moeda do registro)\n",
    "\n",
    "#Linguagem: python 3\n",
    "#Bibliotecas: pandas e matplotlib\n",
    "#Utilização do Jupyter Notebook"
   ]
  },
  {
   "cell_type": "code",
   "execution_count": 1,
   "metadata": {},
   "outputs": [],
   "source": [
    "import pandas as pd"
   ]
  },
  {
   "cell_type": "code",
   "execution_count": 2,
   "metadata": {},
   "outputs": [],
   "source": [
    "df = pd.read_excel(\"cotacoes.xlsx\") "
   ]
  },
  {
   "cell_type": "code",
   "execution_count": 3,
   "metadata": {},
   "outputs": [
    {
     "data": {
      "text/plain": [
       "(201, 7)"
      ]
     },
     "execution_count": 3,
     "metadata": {},
     "output_type": "execute_result"
    }
   ],
   "source": [
    "#Número total de linhas e colunas contidas no arquivo Excel\n",
    "df.shape"
   ]
  },
  {
   "cell_type": "code",
   "execution_count": 4,
   "metadata": {},
   "outputs": [
    {
     "data": {
      "text/plain": [
       "Euro (EUR)                67\n",
       "Dólar Americano (USD)     67\n",
       "Libra Esterlina (GBP)     67\n",
       "Name: Moeda, dtype: int64"
      ]
     },
     "execution_count": 4,
     "metadata": {},
     "output_type": "execute_result"
    }
   ],
   "source": [
    "#Total de registros por moeda\n",
    "df[\"Moeda\"].value_counts()"
   ]
  },
  {
   "cell_type": "code",
   "execution_count": 5,
   "metadata": {},
   "outputs": [
    {
     "data": {
      "text/plain": [
       "Moeda\n",
       "Dólar Americano (USD)     5.348927\n",
       "Euro (EUR)                5.865846\n",
       "Libra Esterlina (GBP)     6.610604\n",
       "Name: Abertura, dtype: float64"
      ]
     },
     "execution_count": 5,
     "metadata": {},
     "output_type": "execute_result"
    }
   ],
   "source": [
    "#Valor médio de abertura das moedas\n",
    "df.groupby(\"Moeda\")[\"Abertura\"].mean()"
   ]
  },
  {
   "cell_type": "code",
   "execution_count": 6,
   "metadata": {},
   "outputs": [
    {
     "data": {
      "text/plain": [
       "Text(0, 0.5, 'Moeda')"
      ]
     },
     "execution_count": 6,
     "metadata": {},
     "output_type": "execute_result"
    },
    {
     "data": {
      "image/png": "[encoded data removed]",
      "text/plain": [
       "<Figure size 432x288 with 1 Axes>"
      ]
     },
     "metadata": {
      "needs_background": "light"
     },
     "output_type": "display_data"
    }
   ],
   "source": [
    "#Gráfico do valor médio de abertura das moedas\n",
    "from matplotlib import pyplot as plt\n",
    "%matplotlib inline\n",
    "df.groupby(\"Moeda\")[\"Abertura\"].mean().plot.barh(title=\"média de abertura das moedas\")\n",
    "plt.xlabel(\"Média de Abertura\")\n",
    "plt.ylabel(\"Moeda\")"
   ]
  },
  {
   "cell_type": "code",
   "execution_count": 7,
   "metadata": {},
   "outputs": [
    {
     "data": {
      "text/plain": [
       "Moeda\n",
       "Dólar Americano (USD)     4.8229\n",
       "Euro (EUR)                5.4165\n",
       "Libra Esterlina (GBP)     5.9048\n",
       "Name: Abertura, dtype: float64"
      ]
     },
     "execution_count": 7,
     "metadata": {},
     "output_type": "execute_result"
    }
   ],
   "source": [
    "#Valor mínimo de abertura das moedas\n",
    "df.groupby(\"Moeda\")[\"Abertura\"].min()"
   ]
  },
  {
   "cell_type": "code",
   "execution_count": 8,
   "metadata": {},
   "outputs": [
    {
     "data": {
      "text/plain": [
       "Moeda\n",
       "Dólar Americano (USD)     5.9917\n",
       "Euro (EUR)                6.3855\n",
       "Libra Esterlina (GBP)     7.2167\n",
       "Name: Abertura, dtype: float64"
      ]
     },
     "execution_count": 8,
     "metadata": {},
     "output_type": "execute_result"
    }
   ],
   "source": [
    "#Valor máximo de abertura das moedas\n",
    "df.groupby(\"Moeda\")[\"Abertura\"].max()"
   ]
  },
  {
   "cell_type": "code",
   "execution_count": 9,
   "metadata": {},
   "outputs": [
    {
     "data": {
      "text/plain": [
       "Moeda\n",
       "Dólar Americano (USD)     0.271599\n",
       "Euro (EUR)                0.251819\n",
       "Libra Esterlina (GBP)     0.320968\n",
       "Name: Abertura, dtype: float64"
      ]
     },
     "execution_count": 9,
     "metadata": {},
     "output_type": "execute_result"
    }
   ],
   "source": [
    "#Desvio padrão da abertura das moedas\n",
    "df.groupby(\"Moeda\")[\"Abertura\"].std()"
   ]
  },
  {
   "cell_type": "code",
   "execution_count": 10,
   "metadata": {},
   "outputs": [
    {
     "data": {
      "text/plain": [
       "Text(0, 0.5, 'Moeda')"
      ]
     },
     "execution_count": 10,
     "metadata": {},
     "output_type": "execute_result"
    },
    {
     "data": {
      "image/png": "[encoded data removed]",
      "text/plain": [
       "<Figure size 432x288 with 1 Axes>"
      ]
     },
     "metadata": {
      "needs_background": "light"
     },
     "output_type": "display_data"
    }
   ],
   "source": [
    "#Gráfico do valor do desvio padrão de abertura das moedas\n",
    "from matplotlib import pyplot as plt\n",
    "%matplotlib inline\n",
    "df.groupby(\"Moeda\")[\"Abertura\"].std().plot.barh(title=\"desvio padrão de abertura das moedas\")\n",
    "plt.xlabel(\"Desvio Padrão de Abertura\")\n",
    "plt.ylabel(\"Moeda\")"
   ]
  },
  {
   "cell_type": "code",
   "execution_count": 11,
   "metadata": {},
   "outputs": [
    {
     "data": {
      "text/plain": [
       "Moeda\n",
       "Dólar Americano (USD)     5.345697\n",
       "Euro (EUR)                5.872346\n",
       "Libra Esterlina (GBP)     6.619178\n",
       "Name: Fechamento, dtype: float64"
      ]
     },
     "execution_count": 11,
     "metadata": {},
     "output_type": "execute_result"
    }
   ],
   "source": [
    "#Valor médio de fechamento das moedas\n",
    "df.groupby(\"Moeda\")[\"Fechamento\"].mean()"
   ]
  },
  {
   "cell_type": "code",
   "execution_count": 12,
   "metadata": {},
   "outputs": [
    {
     "data": {
      "text/plain": [
       "Text(0, 0.5, 'Moeda')"
      ]
     },
     "execution_count": 12,
     "metadata": {},
     "output_type": "execute_result"
    },
    {
     "data": {
      "image/png": "[encoded data removed]",
      "text/plain": [
       "<Figure size 432x288 with 1 Axes>"
      ]
     },
     "metadata": {
      "needs_background": "light"
     },
     "output_type": "display_data"
    }
   ],
   "source": [
    "#Gráfico de valor médio de fechamento de moedas\n",
    "from matplotlib import pyplot as plt\n",
    "%matplotlib inline\n",
    "df.groupby(\"Moeda\")[\"Fechamento\"].mean().plot.barh(title=\"média de fechamento das moedas\")\n",
    "plt.xlabel(\"Média de Fechamento\")\n",
    "plt.ylabel(\"Moeda\")"
   ]
  },
  {
   "cell_type": "code",
   "execution_count": 13,
   "metadata": {},
   "outputs": [
    {
     "data": {
      "text/plain": [
       "Moeda\n",
       "Dólar Americano (USD)     4.8235\n",
       "Euro (EUR)                5.4476\n",
       "Libra Esterlina (GBP)     5.9421\n",
       "Name: Fechamento, dtype: float64"
      ]
     },
     "execution_count": 13,
     "metadata": {},
     "output_type": "execute_result"
    }
   ],
   "source": [
    "#Valor mínimo de fechamento das moedas\n",
    "df.groupby(\"Moeda\")[\"Fechamento\"].min()"
   ]
  },
  {
   "cell_type": "code",
   "execution_count": 14,
   "metadata": {},
   "outputs": [
    {
     "data": {
      "text/plain": [
       "Moeda\n",
       "Dólar Americano (USD)     5.8870\n",
       "Euro (EUR)                6.3855\n",
       "Libra Esterlina (GBP)     7.2173\n",
       "Name: Fechamento, dtype: float64"
      ]
     },
     "execution_count": 14,
     "metadata": {},
     "output_type": "execute_result"
    }
   ],
   "source": [
    "#Valor máximo de fechamento das moedas\n",
    "df.groupby(\"Moeda\")[\"Fechamento\"].max()"
   ]
  },
  {
   "cell_type": "code",
   "execution_count": 15,
   "metadata": {},
   "outputs": [
    {
     "data": {
      "text/plain": [
       "Moeda\n",
       "Dólar Americano (USD)     0.265073\n",
       "Euro (EUR)                0.245728\n",
       "Libra Esterlina (GBP)     0.309846\n",
       "Name: Fechamento, dtype: float64"
      ]
     },
     "execution_count": 15,
     "metadata": {},
     "output_type": "execute_result"
    }
   ],
   "source": [
    "#Desvio padrão do fechamento das moedas\n",
    "df.groupby(\"Moeda\")[\"Fechamento\"].std()"
   ]
  },
  {
   "cell_type": "code",
   "execution_count": 16,
   "metadata": {},
   "outputs": [
    {
     "data": {
      "text/plain": [
       "Text(0, 0.5, 'Moeda')"
      ]
     },
     "execution_count": 16,
     "metadata": {},
     "output_type": "execute_result"
    },
    {
     "data": {
      "image/png": "[encoded data removed]",
      "text/plain": [
       "<Figure size 432x288 with 1 Axes>"
      ]
     },
     "metadata": {
      "needs_background": "light"
     },
     "output_type": "display_data"
    }
   ],
   "source": [
    "#Gráfico do valor do desvio padrão de fechamento das moedas\n",
    "from matplotlib import pyplot as plt\n",
    "%matplotlib inline\n",
    "df.groupby(\"Moeda\")[\"Fechamento\"].std().plot.barh(title=\"desvio padrão de fechamento das moedas\")\n",
    "plt.xlabel(\"Desvio Padrão de Fechamento\")\n",
    "plt.ylabel(\"Moeda\")"
   ]
  },
  {
   "cell_type": "code",
   "execution_count": 17,
   "metadata": {},
   "outputs": [
    {
     "data": {
      "text/plain": [
       "Moeda\n",
       "Dólar Americano (USD)     0.000399\n",
       "Euro (EUR)                0.001228\n",
       "Libra Esterlina (GBP)     0.001484\n",
       "Name: Variação, dtype: float64"
      ]
     },
     "execution_count": 17,
     "metadata": {},
     "output_type": "execute_result"
    }
   ],
   "source": [
    "#Valor médio de oscilação das moedas\n",
    "df.groupby(\"Moeda\")[\"Variação\"].mean()"
   ]
  },
  {
   "cell_type": "code",
   "execution_count": 18,
   "metadata": {},
   "outputs": [
    {
     "data": {
      "text/plain": [
       "Text(0, 0.5, 'Moeda')"
      ]
     },
     "execution_count": 18,
     "metadata": {},
     "output_type": "execute_result"
    },
    {
     "data": {
      "image/png": "[encoded data removed]",
      "text/plain": [
       "<Figure size 432x288 with 1 Axes>"
      ]
     },
     "metadata": {
      "needs_background": "light"
     },
     "output_type": "display_data"
    }
   ],
   "source": [
    "#Gráfico de valor médio de oscilação de moedas\n",
    "from matplotlib import pyplot as plt\n",
    "%matplotlib inline\n",
    "df.groupby(\"Moeda\")[\"Variação\"].mean().plot.barh(title=\"média de oscilação das moedas\")\n",
    "plt.xlabel(\"Média de Oscilação\")\n",
    "plt.ylabel(\"Moeda\")"
   ]
  },
  {
   "cell_type": "code",
   "execution_count": 19,
   "metadata": {},
   "outputs": [
    {
     "data": {
      "text/plain": [
       "Moeda\n",
       "Dólar Americano (USD)    -0.0314\n",
       "Euro (EUR)               -0.0358\n",
       "Libra Esterlina (GBP)    -0.0274\n",
       "Name: Variação, dtype: float64"
      ]
     },
     "execution_count": 19,
     "metadata": {},
     "output_type": "execute_result"
    }
   ],
   "source": [
    "#Valor mínimo de oscilação das moedas\n",
    "df.groupby(\"Moeda\")[\"Variação\"].min()"
   ]
  },
  {
   "cell_type": "code",
   "execution_count": 20,
   "metadata": {
    "scrolled": true
   },
   "outputs": [
    {
     "data": {
      "text/plain": [
       "Moeda\n",
       "Dólar Americano (USD)     0.0285\n",
       "Euro (EUR)                0.0361\n",
       "Libra Esterlina (GBP)     0.0390\n",
       "Name: Variação, dtype: float64"
      ]
     },
     "execution_count": 20,
     "metadata": {},
     "output_type": "execute_result"
    }
   ],
   "source": [
    "#Valor máximo de oscilação das moedas\n",
    "df.groupby(\"Moeda\")[\"Variação\"].max()"
   ]
  },
  {
   "cell_type": "code",
   "execution_count": 21,
   "metadata": {},
   "outputs": [
    {
     "data": {
      "text/plain": [
       "Moeda\n",
       "Dólar Americano (USD)     0.016453\n",
       "Euro (EUR)                0.016322\n",
       "Libra Esterlina (GBP)     0.016469\n",
       "Name: Variação, dtype: float64"
      ]
     },
     "execution_count": 21,
     "metadata": {},
     "output_type": "execute_result"
    }
   ],
   "source": [
    "#Desvio padrão de oscilação das moedas\n",
    "df.groupby(\"Moeda\")[\"Variação\"].std()"
   ]
  },
  {
   "cell_type": "code",
   "execution_count": 22,
   "metadata": {},
   "outputs": [
    {
     "data": {
      "text/plain": [
       "Text(0, 0.5, 'Moeda')"
      ]
     },
     "execution_count": 22,
     "metadata": {},
     "output_type": "execute_result"
    },
    {
     "data": {
      "image/png": "[encoded data removed]",
      "text/plain": [
       "<Figure size 432x288 with 1 Axes>"
      ]
     },
     "metadata": {
      "needs_background": "light"
     },
     "output_type": "display_data"
    }
   ],
   "source": [
    "#Gráfico do valor do desvio padrão de oscilação das moedas\n",
    "from matplotlib import pyplot as plt\n",
    "%matplotlib inline\n",
    "df.groupby(\"Moeda\")[\"Variação\"].std().plot.barh(title=\"desvio padrão de oscilação das moedas\")\n",
    "plt.xlabel(\"Desvio Padrão de Oscilação\")\n",
    "plt.ylabel(\"Moeda\")"
   ]
  },
  {
   "cell_type": "code",
   "execution_count": 23,
   "metadata": {},
   "outputs": [
    {
     "data": {
      "text/plain": [
       "Moeda\n",
       "Dólar Americano (USD)     5.286882\n",
       "Euro (EUR)                5.798672\n",
       "Libra Esterlina (GBP)     6.531469\n",
       "Name: Mínima, dtype: float64"
      ]
     },
     "execution_count": 23,
     "metadata": {},
     "output_type": "execute_result"
    }
   ],
   "source": [
    "#Valor médio das mínimas das moedas\n",
    "df.groupby(\"Moeda\")[\"Mínima\"].mean()"
   ]
  },
  {
   "cell_type": "code",
   "execution_count": 24,
   "metadata": {},
   "outputs": [
    {
     "data": {
      "text/plain": [
       "Text(0, 0.5, 'Moeda')"
      ]
     },
     "execution_count": 24,
     "metadata": {},
     "output_type": "execute_result"
    },
    {
     "data": {
      "image/png": "[encoded data removed]",
      "text/plain": [
       "<Figure size 432x288 with 1 Axes>"
      ]
     },
     "metadata": {
      "needs_background": "light"
     },
     "output_type": "display_data"
    }
   ],
   "source": [
    "#Gráfico de valor médio de mínimas de moedas\n",
    "from matplotlib import pyplot as plt\n",
    "%matplotlib inline\n",
    "df.groupby(\"Moeda\")[\"Mínima\"].mean().plot.barh(title=\"média de mínimas das moedas\")\n",
    "plt.xlabel(\"Média de Mínimas\")\n",
    "plt.ylabel(\"Moeda\")"
   ]
  },
  {
   "cell_type": "code",
   "execution_count": 25,
   "metadata": {},
   "outputs": [
    {
     "data": {
      "text/plain": [
       "Moeda\n",
       "Dólar Americano (USD)     0.261202\n",
       "Euro (EUR)                0.245217\n",
       "Libra Esterlina (GBP)     0.314894\n",
       "Name: Mínima, dtype: float64"
      ]
     },
     "execution_count": 25,
     "metadata": {},
     "output_type": "execute_result"
    }
   ],
   "source": [
    "#Desvio padrão das mínimas das moedas\n",
    "df.groupby(\"Moeda\")[\"Mínima\"].std()"
   ]
  },
  {
   "cell_type": "code",
   "execution_count": 26,
   "metadata": {},
   "outputs": [
    {
     "data": {
      "text/plain": [
       "Text(0, 0.5, 'Moeda')"
      ]
     },
     "execution_count": 26,
     "metadata": {},
     "output_type": "execute_result"
    },
    {
     "data": {
      "image/png": "[encoded data removed]",
      "text/plain": [
       "<Figure size 432x288 with 1 Axes>"
      ]
     },
     "metadata": {
      "needs_background": "light"
     },
     "output_type": "display_data"
    }
   ],
   "source": [
    "#Gráfico do valor do desvio padrão de mínimas das moedas\n",
    "from matplotlib import pyplot as plt\n",
    "%matplotlib inline\n",
    "df.groupby(\"Moeda\")[\"Mínima\"].std().plot.barh(title=\"desvio padrão de mínimas das moedas\")\n",
    "plt.xlabel(\"Desvio Padrão de Mínimas\")\n",
    "plt.ylabel(\"Moeda\")"
   ]
  },
  {
   "cell_type": "code",
   "execution_count": 27,
   "metadata": {
    "scrolled": true
   },
   "outputs": [
    {
     "data": {
      "text/plain": [
       "Moeda\n",
       "Dólar Americano (USD)     5.404384\n",
       "Euro (EUR)                5.941366\n",
       "Libra Esterlina (GBP)     6.699409\n",
       "Name: Máxima, dtype: float64"
      ]
     },
     "execution_count": 27,
     "metadata": {},
     "output_type": "execute_result"
    }
   ],
   "source": [
    "#Valor médio das máximas das moedas\n",
    "df.groupby(\"Moeda\")[\"Máxima\"].mean()"
   ]
  },
  {
   "cell_type": "code",
   "execution_count": 28,
   "metadata": {},
   "outputs": [
    {
     "data": {
      "text/plain": [
       "Text(0, 0.5, 'Moeda')"
      ]
     },
     "execution_count": 28,
     "metadata": {},
     "output_type": "execute_result"
    },
    {
     "data": {
      "image/png": "[encoded data removed]",
      "text/plain": [
       "<Figure size 432x288 with 1 Axes>"
      ]
     },
     "metadata": {
      "needs_background": "light"
     },
     "output_type": "display_data"
    }
   ],
   "source": [
    "#Gráfico de valor médio de máximas de moedas\n",
    "from matplotlib import pyplot as plt\n",
    "%matplotlib inline\n",
    "df.groupby(\"Moeda\")[\"Máxima\"].mean().plot.barh(title=\"média de máximas das moedas\")\n",
    "plt.xlabel(\"Média de Máximas\")\n",
    "plt.ylabel(\"Moeda\")"
   ]
  },
  {
   "cell_type": "code",
   "execution_count": 29,
   "metadata": {},
   "outputs": [
    {
     "data": {
      "text/plain": [
       "Moeda\n",
       "Dólar Americano (USD)     0.274699\n",
       "Euro (EUR)                0.256317\n",
       "Libra Esterlina (GBP)     0.320271\n",
       "Name: Máxima, dtype: float64"
      ]
     },
     "execution_count": 29,
     "metadata": {},
     "output_type": "execute_result"
    }
   ],
   "source": [
    "#Desvio padrão das máximas das moedas\n",
    "df.groupby(\"Moeda\")[\"Máxima\"].std()"
   ]
  },
  {
   "cell_type": "code",
   "execution_count": 30,
   "metadata": {},
   "outputs": [
    {
     "data": {
      "text/plain": [
       "Text(0, 0.5, 'Moeda')"
      ]
     },
     "execution_count": 30,
     "metadata": {},
     "output_type": "execute_result"
    },
    {
     "data": {
      "image/png": "[encoded data removed]",
      "text/plain": [
       "<Figure size 432x288 with 1 Axes>"
      ]
     },
     "metadata": {
      "needs_background": "light"
     },
     "output_type": "display_data"
    }
   ],
   "source": [
    "#Gráfico do valor do desvio padrão de máximas das moedas\n",
    "from matplotlib import pyplot as plt\n",
    "%matplotlib inline\n",
    "df.groupby(\"Moeda\")[\"Máxima\"].std().plot.barh(title=\"desvio padrão de máximas das moedas\")\n",
    "plt.xlabel(\"Desvio Padrão de Máximas\")\n",
    "plt.ylabel(\"Moeda\")"
   ]
  }
 ],
 "metadata": {
  "kernelspec": {
   "display_name": "Python 3",
   "language": "python",
   "name": "python3"
  },
  "language_info": {
   "codemirror_mode": {
    "name": "ipython",
    "version": 3
   },
   "file_extension": ".py",
   "mimetype": "text/x-python",
   "name": "python",
   "nbconvert_exporter": "python",
   "pygments_lexer": "ipython3",
   "version": "3.7.6"
  }
 },
 "nbformat": 4,
 "nbformat_minor": 4
}
